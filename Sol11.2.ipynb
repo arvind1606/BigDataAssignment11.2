import numpy as np
from sklearn import cluster, datasets
from scipy import misc
import matplotlib.pyplot as plt


face = misc.face(gray = True)

# original face
plt.figure(figsize=(16, 8))
plt.imshow(face, cmap=plt.cm.gray)

# Since the image is 2 dimention array, need to convert it to one dim
X = face.reshape(-1,1)

# Applying KMeans clustring for K=5
from sklearn.cluster import KMeans
cluster_count = 5
k_means = KMeans(n_clusters = cluster_count, init = 'k-means++', random_state = 100)
k_means.fit(X)

values = k_means.cluster_centers_.squeeze()
labels = k_means.labels_

# create an array from labels and values
face_compressed = np.choose(labels, values)
face_compressed.shape = face.shape

# compressed face
plt.figure(2, figsize=(16, 8))
plt.imshow(face_compressed, cmap=plt.cm.gray)
